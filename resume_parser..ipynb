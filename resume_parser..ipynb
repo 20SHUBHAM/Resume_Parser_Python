{
 "cells": [
  {
   "cell_type": "code",
   "execution_count": 24,
   "id": "554ef42c",
   "metadata": {},
   "outputs": [],
   "source": [
    "try:\n",
    "    import spacy\n",
    "    import json\n",
    "except Exception as e:\n",
    "    print(e)\n",
    "    \n",
    "\n",
    "class contentextract(object):\n",
    "    \n",
    "    _slots__ = ['text']\n",
    "    \n",
    "    def __init__(self, text=None):\n",
    "        self.text = text\n",
    "        \n",
    "    def get(self):\n",
    "        \"\"\"\n",
    "        Return a Json\n",
    "        \"\"\"\n",
    "        nlp = spacy.load(\"en_core_web_sm\")\n",
    "        doc = nlp(self.text)\n",
    "        text = [ent.text for ent in doc.ents]\n",
    "        entity = [ent.label_ for ent in doc.ents]\n",
    "    \n",
    "        from collections import Counter\n",
    "        import json\n",
    "\n",
    "        data = Counter(zip(entity))\n",
    "        unique_entity = list(data.keys())\n",
    "        unique_entity = [x[0] for x in unique_entity]\n",
    "\n",
    "        d = {}\n",
    "        for val in unique_entity:\n",
    "            d[val] = []\n",
    "\n",
    "        for key,val in dict(zip(text, entity)).items():\n",
    "            if val in unique_entity:\n",
    "                d[val].append(key)\n",
    "        return d"
   ]
  },
  {
   "cell_type": "code",
   "execution_count": 25,
   "id": "46c92841",
   "metadata": {},
   "outputs": [],
   "source": [
    "try:\n",
    "    import PyPDF2\n",
    "    import requests\n",
    "    import json\n",
    "except Exception:\n",
    "    pass\n",
    "\n",
    "class Resume(object):\n",
    "    def __init__(self, filename=None):\n",
    "        self.filename = filename\n",
    "        \n",
    "    def get(self):\n",
    "        \"\"\"\n",
    "        \n",
    "        \"\"\"\n",
    "        fFileObj = open(self.filename, 'rb')\n",
    "        pdfReader = PyPDF2.PdfFileReader(fFileObj)\n",
    "        pageObj = pdfReader.getPage(0)\n",
    "        print(\"Total Pages : {} \".format(pdfReader.numPages))\n",
    "\n",
    "        resume = pageObj.extractText()\n",
    "        return resume"
   ]
  },
  {
   "cell_type": "code",
   "execution_count": 26,
   "id": "f14ba4e6",
   "metadata": {},
   "outputs": [
    {
     "name": "stdout",
     "output_type": "stream",
     "text": [
      "Total Pages : 3 \n"
     ]
    }
   ],
   "source": [
    "resume = Resume(filename=\"Smith Resume.pdf\")\n",
    "extracted_data = resume.get()"
   ]
  },
  {
   "cell_type": "code",
   "execution_count": 27,
   "id": "0f64d28b",
   "metadata": {},
   "outputs": [
    {
     "data": {
      "text/plain": [
       "'Michael\\n \\nSmith\\n \\nBI / Big Data/ Azure\\n \\nManchester\\n, \\nUK\\n-\\n \\nEmail me on Indeed:\\n \\nindeed.com/r/\\nfalice\\nnt\\n/140749dace5dc26f\\n \\n \\n10+ years of Experience in Designing, Development, Administration, Analysis, \\nManagement inthe Business Intelligence Da\\nta warehousing, Client Server \\nTechnologies, Web\\n-\\nbased Applications, cloud solutions and Databases.\\n \\nData warehouse: Data analysis, star/ snow flake schema data modeling and design \\nspecific todata warehousing and business intelligence environment.\\n \\nDatabase: \\nExperience in database designing, scalability, back\\n-\\nup and recovery, \\nwriting andoptimizing SQL code and Stored Procedures, creating functions, views, \\ntriggers and indexes. \\n \\nCloud platform: Worked on Microsoft Azure cloud services like Document DB, SQL \\nAzur\\ne, StreamAnalytics, Event hub, Power BI, Web Job, Web App, Power BI, Azure \\ndata lake analytics(U\\n-\\nSQL).\\n \\nBig Data: Worked Azure data lake store/analytics for big data processing and Azure \\ndata factoryto schedule U\\n-\\nSQL jobs. Designed and developed end to end \\nbig data \\nsolution for data insights. \\n \\n \\nWilling to relocate: Anywhere\\n \\nWORK EXPERIENCE\\nSoftware Engineer\\n \\nMicrosoft \\n-\\n \\nManchester\\n, \\nUK.\\n \\nDecember 2015 to Pre\\nsent\\n \\n1. Microsoft Rewards Live dashboards:\\n \\nDescription: \\n-\\n \\nMicrosoft rewards is loyalty program that rewards Users for \\nbrowsing and shopping online. Microsoft Rewards members can earn points when \\nsearching with Bing, browsing with Microsoft Edge and making purchases at the \\nXbox Store, the Windows St\\nore and the Microsoft Store. Plus, user can pick up \\nbonus points for taking daily quizzes and tours on the Microsoft rewards website. \\nRewards live dashboards gives a live picture of usage world\\n-\\nwide and by markets \\nlike US, Canada, Australia, new user regis\\ntration count, top/bottom performing \\nrewards offers, orders stats and weekly trends of user activities, orders and new \\nuser registrations. the PBI tiles gets refreshed in different frequencies starting \\nfrom 5 seconds to 30 minutes.\\n \\nTechnology/Tools used\\n \\nEv\\nent hub, stream analytics and Power BI.\\n \\nResponsibilities\\n \\nCreated stream analytics jobs to process event hub data\\n \\nCreated Power BI live dashboard to show live usage traffic, weekly trends, cards, \\ncharts to showtop/bottom 10 offers and usage metrics.\\n \\n2. Micr\\nosoft Rewards Data Insights:\\n \\nDescription: \\n-\\n \\nMicrosoft rewards is loyalty program that rewards Users for \\nbrowsing and shopping online. Microsoft Rewards members can earn points when \\nsearching with Bing, browsing with Microsoft Edge and making purchases at t\\nhe \\nXbox Store, the Windows Store and the Microsoft Store. Plus, user can pick up \\nbonus points for taking daily quizzes and tours on the Microsoft rewards website. \\nRewards data insights is data analytics and reporting platform, processes 20 \\nmillion users da\\nily activities and redemption across different markets like US, \\nCanada, Australia.\\n \\nTechnology/Tools used\\n \\nCosmos (Microsoft big\\n-\\ndata platform), c#, X\\n-\\nflow job monitoring, Power BI.\\n \\nResponsibilities\\n \\n'"
      ]
     },
     "execution_count": 27,
     "metadata": {},
     "output_type": "execute_result"
    }
   ],
   "source": [
    "extracted_data"
   ]
  },
  {
   "cell_type": "code",
   "execution_count": 28,
   "id": "bb8e42f1",
   "metadata": {},
   "outputs": [
    {
     "name": "stdout",
     "output_type": "stream",
     "text": [
      "{\n",
      "   \"GPE\": [\n",
      "      \"Michael\",\n",
      "      \"UK\",\n",
      "      \"US\",\n",
      "      \"Canada\",\n",
      "      \"Australia\"\n",
      "   ],\n",
      "   \"ORG\": [\n",
      "      \"Smith\",\n",
      "      \"BI / Big Data/ Azure\",\n",
      "      \"Analysis\",\n",
      "      \"Applications\",\n",
      "      \"SQL\",\n",
      "      \"Microsoft\",\n",
      "      \"StreamAnalytics, Event\",\n",
      "      \"Power BI\",\n",
      "      \"factoryto\",\n",
      "      \"Bing\",\n",
      "      \"Microsoft Edge\",\n",
      "      \"Windows St\",\n",
      "      \"the Microsoft Store\",\n",
      "      \"Responsibilities\\n \\nCreated\",\n",
      "      \"Rewards Data Insights\",\n",
      "      \"the Windows Store\",\n",
      "      \"Responsibilities\"\n",
      "   ],\n",
      "   \"DATE\": [\n",
      "      \"Manchester\\n\",\n",
      "      \"10+ years\",\n",
      "      \"December 2015\",\n",
      "      \"daily\",\n",
      "      \"weekly\"\n",
      "   ],\n",
      "   \"PERSON\": [\n",
      "      \"Client Server\",\n",
      "      \"Stored Procedures\",\n",
      "      \"Cloud\",\n",
      "      \"App\",\n",
      "      \"U\\n-\\nSQL\",\n",
      "      \"Xbox Store\"\n",
      "   ],\n",
      "   \"CARDINAL\": [\n",
      "      \"1\",\n",
      "      \"2\",\n",
      "      \"20\"\n",
      "   ],\n",
      "   \"TIME\": [\n",
      "      \"5 seconds to 30 minutes\"\n",
      "   ]\n",
      "}\n"
     ]
    }
   ],
   "source": [
    "helper = EntityGenerator(text=extracted_data)\n",
    "response = helper.get()\n",
    "print(json.dumps(response , indent=3))"
   ]
  },
  {
   "cell_type": "code",
   "execution_count": null,
   "id": "87bf4768",
   "metadata": {},
   "outputs": [],
   "source": []
  }
 ],
 "metadata": {
  "kernelspec": {
   "display_name": "Python 3",
   "language": "python",
   "name": "python3"
  },
  "language_info": {
   "codemirror_mode": {
    "name": "ipython",
    "version": 3
   },
   "file_extension": ".py",
   "mimetype": "text/x-python",
   "name": "python",
   "nbconvert_exporter": "python",
   "pygments_lexer": "ipython3",
   "version": "3.8.8"
  }
 },
 "nbformat": 4,
 "nbformat_minor": 5
}
